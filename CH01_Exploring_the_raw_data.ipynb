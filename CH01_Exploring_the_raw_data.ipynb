{
  "nbformat": 4,
  "nbformat_minor": 0,
  "metadata": {
    "colab": {
      "name": "CH01_Exploring-the-raw-data.ipynb",
      "provenance": [],
      "include_colab_link": true
    },
    "kernelspec": {
      "name": "python3",
      "display_name": "Python 3"
    }
  },
  "cells": [
    {
      "cell_type": "markdown",
      "metadata": {
        "id": "view-in-github",
        "colab_type": "text"
      },
      "source": [
        "<a href=\"https://colab.research.google.com/github/scharnk/Machine-Learning-with-the-Experts/blob/master/CH01_Exploring_the_raw_data.ipynb\" target=\"_parent\"><img src=\"https://colab.research.google.com/assets/colab-badge.svg\" alt=\"Open In Colab\"/></a>"
      ]
    },
    {
      "cell_type": "markdown",
      "metadata": {
        "id": "-5TXSLtttK0T",
        "colab_type": "text"
      },
      "source": [
        "# School Budgets\n",
        "\n",
        "## This is a classification problem\n",
        "\n",
        "* Your goal is to develop a model that predicts the probability for each possible label by relying on some correctly labeled examples.\n",
        "\n",
        "* Supervised Learning, because the model will be trained using labeled examples\n",
        "\n",
        "* there are different types of supervised machine learning problems\n",
        "\n",
        "* goal is to correctly label budget line items by training a supervised model to predict the probability of each possible label, taking most probable label as the correct label.\n",
        "\n",
        "* Classification, because predicted probabilities will be used to select a label class.\n",
        "\n",
        ".info()\n",
        "\n",
        ".describe()\n",
        "\n"
      ]
    },
    {
      "cell_type": "code",
      "metadata": {
        "id": "B4saCWdKVTz9",
        "colab_type": "code",
        "colab": {}
      },
      "source": [
        "df = pd.read_csv('TrainingData.csv', index_col=0)\n",
        "\n",
        "df.info()\n",
        "\n",
        "df.head()\n",
        "\n",
        "df.describe()\n",
        "\n",
        "df.tail()"
      ],
      "execution_count": 0,
      "outputs": []
    },
    {
      "cell_type": "code",
      "metadata": {
        "id": "b1SWi6vU1V0O",
        "colab_type": "code",
        "colab": {}
      },
      "source": [
        "# plot a histogram of the non-null FTE column to see the distribution of part-time and full-time employees in the dataset\n",
        "\n",
        "# Print the summary statistics\n",
        "print(df.describe())\n",
        "\n",
        "# Import matplotlib.pyplot as plt\n",
        "import matplotlib.pyplot as plt\n",
        "\n",
        "# Create the histogram\n",
        "plt.hist(df['FTE'].dropna())\n",
        "\n",
        "# Add title and labels\n",
        "plt.title('Distribution of %full-time \\n employee works')\n",
        "plt.xlabel('% of full-time')\n",
        "plt.ylabel('num employees')\n",
        "\n",
        "# Display the histogram\n",
        "plt.show()"
      ],
      "execution_count": 0,
      "outputs": []
    },
    {
      "cell_type": "markdown",
      "metadata": {
        "id": "mZHN9JJk2XOt",
        "colab_type": "text"
      },
      "source": [
        "# encode labels as categories\n",
        "* need a numeric representation of categories\n",
        "* pandas-- 'category' dtype encodes categorical info numerically\n",
        "* speeds up code\n",
        "\n",
        "\n",
        "\n",
        "```\n",
        "df.label.astype('category')\n",
        "```\n",
        "## Dummy Variable Encoder\n",
        "* also called a 'binary indicator' representation\n",
        "\n",
        "### Lambda functions\n",
        "* simple one line functions\n",
        "* alternative to 'def' syntax\n",
        "\n",
        "```\n",
        "square = lambda x: x*x\n",
        "```\n"
      ]
    },
    {
      "cell_type": "code",
      "metadata": {
        "id": "_efxDLNx1_Ge",
        "colab_type": "code",
        "colab": {}
      },
      "source": [
        "df.dtypes.value_counts()"
      ],
      "execution_count": 0,
      "outputs": []
    },
    {
      "cell_type": "code",
      "metadata": {
        "id": "fUaUlUeg1--S",
        "colab_type": "code",
        "colab": {}
      },
      "source": [
        "# Define the lambda function: categorize_label\n",
        "categorize_label = lambda x: x.astype('category')\n",
        "\n",
        "# Convert df[LABELS] to a categorical type\n",
        "df[LABELS] = df[LABELS].apply(categorize_label, axis=0)\n",
        "\n",
        "# Print the converted dtypes\n",
        "print(df[LABELS].dtypes)"
      ],
      "execution_count": 0,
      "outputs": []
    },
    {
      "cell_type": "code",
      "metadata": {
        "id": "pnIQK9xh1-0L",
        "colab_type": "code",
        "colab": {}
      },
      "source": [
        "# Import matplotlib.pyplot\n",
        "import matplotlib.pyplot as plt\n",
        "\n",
        "# Calculate number of unique values for each label: num_unique_labels\n",
        "num_unique_labels = df[LABELS].apply(pd.Series.nunique)\n",
        "\n",
        "# Plot number of unique values for each label\n",
        "num_unique_labels.plot(kind='bar')\n",
        "\n",
        "# Label the axes\n",
        "plt.xlabel('Labels')\n",
        "plt.ylabel('Number of unique values')\n",
        "\n",
        "# Display the plot\n",
        "plt.show()"
      ],
      "execution_count": 0,
      "outputs": []
    },
    {
      "cell_type": "markdown",
      "metadata": {
        "id": "x5EIB0_g7VpG",
        "colab_type": "text"
      },
      "source": [
        "# Log loss binary classification\n",
        "\n",
        "* log loss provides a steep penalty for predictions that are both wrong and confident, i.e., a high probability is assigned to the incorrect class.\n",
        "\n",
        "\n",
        "* if the prediction is wrong and confident it will have a much higher log loss value\n",
        "\n"
      ]
    },
    {
      "cell_type": "code",
      "metadata": {
        "id": "WBRbDfuv-WgS",
        "colab_type": "code",
        "colab": {}
      },
      "source": [
        "# Compute and print log loss for 1st case\n",
        "correct_confident_loss = compute_log_loss(correct_confident, actual_labels)\n",
        "print(\"Log loss, correct and confident: {}\".format(correct_confident_loss)) \n",
        "\n",
        "# Compute log loss for 2nd case\n",
        "correct_not_confident_loss = compute_log_loss(correct_not_confident, actual_labels)\n",
        "print(\"Log loss, correct and not confident: {}\".format(correct_not_confident_loss)) \n",
        "\n",
        "# Compute and print log loss for 3rd case\n",
        "wrong_not_confident_loss = compute_log_loss(wrong_not_confident, actual_labels)\n",
        "print(\"Log loss, wrong and not confident: {}\".format(wrong_not_confident_loss)) \n",
        "\n",
        "# Compute and print log loss for 4th case\n",
        "wrong_confident_loss = compute_log_loss(wrong_confident, actual_labels)\n",
        "print(\"Log loss, wrong and confident: {}\".format(wrong_confident_loss)) \n",
        "\n",
        "# Compute and print log loss for actual labels\n",
        "actual_labels_loss = compute_log_loss(actual_labels, actual_labels)\n",
        "print(\"Log loss, actual labels: {}\".format(actual_labels_loss)) \n"
      ],
      "execution_count": 0,
      "outputs": []
    }
  ]
}